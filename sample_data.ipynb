{
 "cells": [
  {
   "cell_type": "code",
   "execution_count": 19,
   "id": "4b94e03b",
   "metadata": {},
   "outputs": [],
   "source": [
    "import pandas as pd\n",
    "import operator\n",
    "import numpy as np\n",
    "import copy\n",
    "import random as rd\n",
    "rd.seed(10)"
   ]
  },
  {
   "cell_type": "code",
   "execution_count": 4,
   "id": "597666e1",
   "metadata": {},
   "outputs": [],
   "source": [
    "def helper_load_train(filename):\n",
    "    user_dict_list = {}\n",
    "    item_dict = set()\n",
    "    item_dict_list = {}\n",
    "    trainUser, trainItem = [], []\n",
    "\n",
    "    with open(filename) as f:\n",
    "        for line in f.readlines():\n",
    "            line = line.strip('\\n').split(' ')\n",
    "            if len(line) == 0:\n",
    "                continue\n",
    "            line = [int(i) for i in line]\n",
    "            user = line[0]\n",
    "            items = line[1:]\n",
    "            item_dict.update(items)\n",
    "            # LGN\n",
    "            trainUser.extend([user] * len(items))\n",
    "            trainItem.extend(items)\n",
    "            if len(items) == 0:\n",
    "                continue\n",
    "            user_dict_list[user] = items\n",
    "\n",
    "            for item in items:\n",
    "                if item in item_dict_list.keys():\n",
    "                    item_dict_list[item].append(user)\n",
    "                else:\n",
    "                    item_dict_list[item] = [user]\n",
    "\n",
    "    return user_dict_list, item_dict, item_dict_list, trainUser, trainItem"
   ]
  },
  {
   "cell_type": "code",
   "execution_count": 5,
   "id": "3ed22018",
   "metadata": {},
   "outputs": [],
   "source": [
    "def convert(item_dict):\n",
    "    user_list = []\n",
    "    item_list = []\n",
    "    for key, value in item_dict.items():\n",
    "        for user in value:\n",
    "            user_list.append(user)\n",
    "            item_list.append(key)\n",
    "            \n",
    "    return user_list, item_list"
   ]
  },
  {
   "cell_type": "code",
   "execution_count": 6,
   "id": "39b2f0f3",
   "metadata": {},
   "outputs": [],
   "source": [
    "train_user_list, _, train_item_list, _, _ = helper_load_train(\"train.txt\")\n",
    "valid_user_list, _, valid_item_list, _, _ = helper_load_train(\"valid.txt\")\n",
    "test_ood_user_list, _, test_ood_item_list, _, _ = helper_load_train(\"test_ood.txt\")\n",
    "test_id_user_list, _, test_id_item_list, _ , _ = helper_load_train(\"test_id.txt\")\n",
    "\n",
    "train_user, train_item = convert(train_item_list)\n",
    "valid_user, valid_item = convert(valid_item_list)\n",
    "test_id_user, test_id_item = convert(test_id_item_list)\n",
    "test_ood_user, test_ood_item = convert(test_ood_item_list)\n",
    "\n",
    "user_list = train_user + valid_user + test_id_user + test_ood_user\n",
    "item_list = train_item + valid_item + test_id_item + test_ood_item"
   ]
  },
  {
   "cell_type": "code",
   "execution_count": 7,
   "id": "697b8b2c",
   "metadata": {},
   "outputs": [],
   "source": [
    "df = pd.DataFrame(data = {'user': user_list, 'item': item_list})"
   ]
  },
  {
   "cell_type": "code",
   "execution_count": 8,
   "id": "0af7ed99",
   "metadata": {},
   "outputs": [],
   "source": [
    "total_item_dict = {}\n",
    "for index, row in df.iterrows():\n",
    "    item = row['item']\n",
    "    user = row['user']\n",
    "    if item in total_item_dict.keys():\n",
    "        total_item_dict[item].append(user)\n",
    "    else:\n",
    "        total_item_dict[item] = [user]"
   ]
  },
  {
   "cell_type": "code",
   "execution_count": 9,
   "id": "c69c3124",
   "metadata": {},
   "outputs": [],
   "source": [
    "pop_item = {key: len(value) for key, value in total_item_dict.items()}"
   ]
  },
  {
   "cell_type": "code",
   "execution_count": 14,
   "id": "30b4ea44",
   "metadata": {},
   "outputs": [],
   "source": [
    "sorted_pop_item = dict(sorted(pop_item.items(), key=operator.itemgetter(1),reverse=True))\n",
    "sorted_items = np.array(list(sorted_pop_item.keys()))\n",
    "each_chunk = int(len(sorted_items)/50)\n",
    "\n",
    "temp = list(np.linspace(each_chunk,each_chunk*49,49))\n",
    "temp = [int(x) for x in temp]\n",
    "chunks = np.split(sorted_items,temp)"
   ]
  },
  {
   "cell_type": "code",
   "execution_count": 15,
   "id": "bbfaa51a",
   "metadata": {},
   "outputs": [],
   "source": [
    "def sample_data(chunks = chunks, gamma = 1, n_max = 12, total_item_dict = total_item_dict):\n",
    "\n",
    "    test_dict = {}\n",
    "    left_dict = copy.deepcopy(total_item_dict)\n",
    "\n",
    "    for i in range(50):\n",
    "        chunk = chunks[i]\n",
    "        \n",
    "        for item in chunk:\n",
    "            \n",
    "            expected_sample = n_max * gamma ** (-(i-1)/(50-1))\n",
    "            total = len(total_item_dict[item])\n",
    "            sample_weight = expected_sample / total\n",
    "            \n",
    "            for user in left_dict[item]:\n",
    "                \n",
    "                rad=rd.random()\n",
    "                # if not sampled, pass\n",
    "                if rad > sample_weight:\n",
    "                    continue\n",
    "                # if this is the only one left interaction, pass\n",
    "                if total == 1:\n",
    "                    continue\n",
    "                # else add to the dictionary\n",
    "                if item in test_dict.keys():\n",
    "                    test_dict[item].append(user)\n",
    "                else:\n",
    "                    test_dict[item] = [user]\n",
    "                \n",
    "                \n",
    "                left_dict[item].remove(user)\n",
    "                    \n",
    "    return test_dict, left_dict"
   ]
  },
  {
   "cell_type": "code",
   "execution_count": 20,
   "id": "c021fcd5",
   "metadata": {},
   "outputs": [],
   "source": [
    "test_dict_1, total_dict_after_1 = \\\n",
    "sample_data(chunks = chunks, gamma = 1, n_max = 12, total_item_dict = total_item_dict)"
   ]
  },
  {
   "cell_type": "code",
   "execution_count": null,
   "id": "2ce20a0f",
   "metadata": {},
   "outputs": [],
   "source": []
  }
 ],
 "metadata": {
  "kernelspec": {
   "display_name": "Python 3 (ipykernel)",
   "language": "python",
   "name": "python3"
  },
  "language_info": {
   "codemirror_mode": {
    "name": "ipython",
    "version": 3
   },
   "file_extension": ".py",
   "mimetype": "text/x-python",
   "name": "python",
   "nbconvert_exporter": "python",
   "pygments_lexer": "ipython3",
   "version": "3.7.11"
  }
 },
 "nbformat": 4,
 "nbformat_minor": 5
}
